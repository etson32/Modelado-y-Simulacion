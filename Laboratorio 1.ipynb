{
  "nbformat": 4,
  "nbformat_minor": 0,
  "metadata": {
    "colab": {
      "name": "Congruencial_Mixto.ipynb",
      "provenance": [],
      "collapsed_sections": [],
      "include_colab_link": true
    },
    "kernelspec": {
      "name": "python3",
      "display_name": "Python 3"
    },
    "language_info": {
      "name": "python"
    }
  },
  "cells": [
    {
      "cell_type": "markdown",
      "metadata": {
        "id": "view-in-github",
        "colab_type": "text"
      },
      "source": [
        "<a href=\"https://colab.research.google.com/github/etson32/Modelado-y-Simulacion/blob/main/Laboratorio%201.ipynb\" target=\"_parent\"><img src=\"https://colab.research.google.com/assets/colab-badge.svg\" alt=\"Open In Colab\"/></a>"
      ]
    },
    {
      "cell_type": "markdown",
      "metadata": {
        "id": "RdFzc9A4X8ZP"
      },
      "source": [
        "#IMPLEMENTACIÓN DE GENERADOR CONGRUENCIAL MIXTO\n",
        "```\n",
        "Autor     : Luis Beltran Palma Ttito\n",
        "Lugar     : Cusco, Perú, 2021.\n",
        "Problema  : Implementación del generador Congruencial **Mixto**.\n",
        "```"
      ]
    },
    {
      "cell_type": "markdown",
      "metadata": {
        "id": "GgBhRrUEY2vP"
      },
      "source": [
        "#Implementación de congruencial mixto Versión 1.0 (proporciona valor a los parametros), "
      ]
    },
    {
      "cell_type": "code",
      "metadata": {
        "id": "vy8FbRXr3Dyi"
      },
      "source": [
        "def CongruencialMixto(a, b, m, Xo, N):\n",
        "    Aleatorios = []\n",
        "    for i in range(N):\n",
        "        Xo = (a*Xo + b) % m\n",
        "        Aleatorios.append(Xo/m)\n",
        "    return Aleatorios"
      ],
      "execution_count": null,
      "outputs": []
    },
    {
      "cell_type": "code",
      "metadata": {
        "colab": {
          "base_uri": "https://localhost:8080/"
        },
        "id": "ZYBGTMXTY7lG",
        "outputId": "fc6ce5fd-4417-45fc-9939-1f27cd427172"
      },
      "source": [
        "CongruencialMixto(5,7,19,2,10)"
      ],
      "execution_count": null,
      "outputs": [
        {
          "output_type": "execute_result",
          "data": {
            "text/plain": [
              "[0.8947368421052632,\n",
              " 0.8421052631578947,\n",
              " 0.5789473684210527,\n",
              " 0.2631578947368421,\n",
              " 0.6842105263157895,\n",
              " 0.7894736842105263,\n",
              " 0.3157894736842105,\n",
              " 0.9473684210526315,\n",
              " 0.10526315789473684,\n",
              " 0.8947368421052632]"
            ]
          },
          "metadata": {
            "tags": []
          },
          "execution_count": 4
        }
      ]
    },
    {
      "cell_type": "markdown",
      "metadata": {
        "id": "mzNVH2eRc7ri"
      },
      "source": [
        "#Implementación de congruencial Mixto Version 2.0 (Parametros por defecto) "
      ]
    },
    {
      "cell_type": "code",
      "metadata": {
        "id": "e60mLvfNZL7B"
      },
      "source": [
        "import time\n",
        "def CongruencialMixto_V2(a = 7^5, b = 0, m = 2^31-1, N = 1):\n",
        "    Xo = time.time_ns()\n",
        "    Aleatorios = []\n",
        "    for i in range(N):\n",
        "        Xo = (a*Xo + b) % m\n",
        "        Aleatorios.append(Xo/m)\n",
        "    return Aleatorios"
      ],
      "execution_count": null,
      "outputs": []
    },
    {
      "cell_type": "code",
      "metadata": {
        "colab": {
          "base_uri": "https://localhost:8080/"
        },
        "id": "rOlKAHl1cDvp",
        "outputId": "6a2adc54-3014-45c0-e08a-c3a9bc5607d9"
      },
      "source": [
        "CongruencialMixto_V2()"
      ],
      "execution_count": null,
      "outputs": [
        {
          "output_type": "execute_result",
          "data": {
            "text/plain": [
              "[0.7142857142857143]"
            ]
          },
          "metadata": {
            "tags": []
          },
          "execution_count": 22
        }
      ]
    },
    {
      "cell_type": "markdown",
      "metadata": {
        "id": "7BhFeZYvdLkk"
      },
      "source": [
        "#PRÁCTICA INDIVIDUAL\n",
        "\n",
        "\n",
        "```\n",
        "1. Implementar el generador cuadrado medio\n",
        "    1.1. Versión con parametros asignados\n",
        "    1.2. Versión con parametros por defecto\n",
        "\n",
        "2. Implementar el generado registro de desplazamiento\n",
        "    2.1. Versión con parametros asignados\n",
        "    2.2. Versión con parametros por defecto\n",
        "\n",
        "```\n",
        "La entrega debe realizar por el aula virtual ClassRoom\n"
      ]
    }
  ]
}