{
  "nbformat": 4,
  "nbformat_minor": 0,
  "metadata": {
    "colab": {
      "name": "Cuadrado_Medio_Registro_Desplazamiento.ipynb",
      "provenance": [],
      "collapsed_sections": [],
      "include_colab_link": true
    },
    "kernelspec": {
      "name": "python3",
      "display_name": "Python 3"
    },
    "language_info": {
      "name": "python"
    }
  },
  "cells": [
    {
      "cell_type": "markdown",
      "metadata": {
        "id": "view-in-github",
        "colab_type": "text"
      },
      "source": [
        "<a href=\"https://colab.research.google.com/github/etson32/Modelado-y-Simulacion/blob/main/LAB1-Cuadrado_Medio_Registro_Desplazamiento.ipynb\" target=\"_parent\"><img src=\"https://colab.research.google.com/assets/colab-badge.svg\" alt=\"Open In Colab\"/></a>"
      ]
    },
    {
      "cell_type": "markdown",
      "metadata": {
        "id": "PjfIiJK_35_U"
      },
      "source": [
        "##**Modelado y Simulacion**\n",
        "###**Implementacion del generador cuadrado medio y generador de registro por desplazamiento**\n",
        "---\n",
        "```\n",
        "Lugar        : Universidad Nacional de San Antonio Abad del Cusco\n",
        "Autor        : Rojas Cahuana Etson Ronaldao\n",
        "Fecha        : 31/03/2021\n",
        "```\n",
        "---\n",
        "**Practica Individual**:  \n",
        "```\n",
        "1. Implementar el generador cuadrado medio\n",
        "    1.1. Versión con parametros asignados\n",
        "    1.2. Versión con parametros por defecto\n",
        "2. Implementar el generado registro de desplazamiento\n",
        "    2.1. Versión con parametros asignados\n",
        "    2.2. Versión con parametros por defecto\n",
        "```\n",
        "\n",
        "##**Solucion:** "
      ]
    },
    {
      "cell_type": "markdown",
      "metadata": {
        "id": "UuLR_1SE3Eui"
      },
      "source": [
        "### **1. Generador Cuadrado Medio**\n",
        "\n",
        "**1.1 Version con parametros asignados**\n",
        "\n"
      ]
    },
    {
      "cell_type": "code",
      "metadata": {
        "id": "J1iZV3jEv1Ei"
      },
      "source": [
        "def Cuadrado_Medio(Xo,N):\n",
        "  Aleatorios = []\n",
        "  numero1 = int(Xo)\n",
        "  for i in range(6):\n",
        "    print('===ITERACION',i+1,'===')\n",
        "    print('X:',numero1)\n",
        "    Xo2 = numero1**2\n",
        "    print('X^2:',Xo2)\n",
        "    if (len(str(Xo2)) != N*4):\n",
        "      Ceros=N*4-len(str(Xo2))\n",
        "      for i in range(Ceros):\n",
        "        Xo2='0'+str(Xo2)      \n",
        "    print('4N cifras:',Xo2)\n",
        "    XoString=str(Xo2)\n",
        "    Xo2=XoString[N:N+2*N]\n",
        "    numero1=int(Xo2)\n",
        "    print('2N digitos centrales:',Xo2)\n",
        "    Xo2=float('0.'+str(Xo2))\n",
        "    print('Nro pseudo aleatorio:',Xo2)\n",
        "    Aleatorios.append(Xo2)\n",
        "  print('')\n",
        "  return Aleatorios"
      ],
      "execution_count": 666,
      "outputs": []
    },
    {
      "cell_type": "code",
      "metadata": {
        "colab": {
          "base_uri": "https://localhost:8080/"
        },
        "id": "0vwoFcVO7ZxB",
        "outputId": "5d38511d-99d3-4361-e8e6-3f3a1a4830e6"
      },
      "source": [
        "Cuadrado_Medio(1234,3)"
      ],
      "execution_count": 667,
      "outputs": [
        {
          "output_type": "stream",
          "text": [
            "===ITERACION 1 ===\n",
            "X: 1234\n",
            "X^2: 1522756\n",
            "4N cifras: 000001522756\n",
            "2N digitos centrales: 001522\n",
            "Nro pseudo aleatorio: 0.001522\n",
            "===ITERACION 2 ===\n",
            "X: 1522\n",
            "X^2: 2316484\n",
            "4N cifras: 000002316484\n",
            "2N digitos centrales: 002316\n",
            "Nro pseudo aleatorio: 0.002316\n",
            "===ITERACION 3 ===\n",
            "X: 2316\n",
            "X^2: 5363856\n",
            "4N cifras: 000005363856\n",
            "2N digitos centrales: 005363\n",
            "Nro pseudo aleatorio: 0.005363\n",
            "===ITERACION 4 ===\n",
            "X: 5363\n",
            "X^2: 28761769\n",
            "4N cifras: 000028761769\n",
            "2N digitos centrales: 028761\n",
            "Nro pseudo aleatorio: 0.028761\n",
            "===ITERACION 5 ===\n",
            "X: 28761\n",
            "X^2: 827195121\n",
            "4N cifras: 000827195121\n",
            "2N digitos centrales: 827195\n",
            "Nro pseudo aleatorio: 0.827195\n",
            "===ITERACION 6 ===\n",
            "X: 827195\n",
            "X^2: 684251568025\n",
            "4N cifras: 684251568025\n",
            "2N digitos centrales: 251568\n",
            "Nro pseudo aleatorio: 0.251568\n",
            "\n"
          ],
          "name": "stdout"
        },
        {
          "output_type": "execute_result",
          "data": {
            "text/plain": [
              "[0.001522, 0.002316, 0.005363, 0.028761, 0.827195, 0.251568]"
            ]
          },
          "metadata": {
            "tags": []
          },
          "execution_count": 667
        }
      ]
    },
    {
      "cell_type": "markdown",
      "metadata": {
        "id": "dYHwx8Fn60za"
      },
      "source": [
        "**1.2 Version con parametros por defecto**"
      ]
    },
    {
      "cell_type": "code",
      "metadata": {
        "id": "_cg1oQxs64EY"
      },
      "source": [
        "import time\n",
        "def Cuadrado_Medio_V2(N=5,M=1):\n",
        "  Xo = time.time_ns()\n",
        "  Aleatorios = []\n",
        "  Xo=str(Xo)\n",
        "  Xo=Xo[10:]\n",
        "  numero1 = int(Xo)\n",
        "  for i in range(M):\n",
        "    Xo2 = numero1**2\n",
        "    if (len(str(Xo2)) != N*4):\n",
        "      Ceros=N*4-len(str(Xo2))\n",
        "      for i in range(Ceros):\n",
        "        Xo2='0'+str(Xo2)      \n",
        "    XoString=str(Xo2)\n",
        "    Xo2=XoString[N:N+2*N]\n",
        "    numero1=int(Xo2)\n",
        "    Xo2=float('0.'+str(Xo2))\n",
        "    Aleatorios.append(Xo2)\n",
        "  return Aleatorios[0]"
      ],
      "execution_count": 663,
      "outputs": []
    },
    {
      "cell_type": "code",
      "metadata": {
        "colab": {
          "base_uri": "https://localhost:8080/"
        },
        "id": "DNWbTQ6U8ZCX",
        "outputId": "04cb5778-7faa-4c50-e21c-fca9fe1d9241"
      },
      "source": [
        "Cuadrado_Medio_V2()"
      ],
      "execution_count": 664,
      "outputs": [
        {
          "output_type": "execute_result",
          "data": {
            "text/plain": [
              "0.7961064783"
            ]
          },
          "metadata": {
            "tags": []
          },
          "execution_count": 664
        }
      ]
    },
    {
      "cell_type": "markdown",
      "metadata": {
        "id": "UB0eb76B67hq"
      },
      "source": [
        "### **2. Generador Registro por Desplazamiento**\n",
        "\n",
        "**2.1 Version con parametros asignados**"
      ]
    },
    {
      "cell_type": "code",
      "metadata": {
        "id": "sgdwvJkJgaNf"
      },
      "source": [
        "#M es el nro de elementos que se generan despues de la semilla\n",
        "def Registro_Desplazamiento(h,q,semilla,l,M):\n",
        "  Aleatorios=[]\n",
        "  Aleatorios.append((int(semilla,2))/2**l)\n",
        "  for j in range(M):\n",
        "    for i in range(q):\n",
        "      a = (int(semilla[i])+int(semilla[i+h-1])) % 2\n",
        "      semilla = semilla + str(a)\n",
        "    Aleatorios.append((int(semilla[l:],2))/2**l)\n",
        "    semilla=semilla[l:]\n",
        "  return Aleatorios"
      ],
      "execution_count": 673,
      "outputs": []
    },
    {
      "cell_type": "code",
      "metadata": {
        "colab": {
          "base_uri": "https://localhost:8080/"
        },
        "id": "T1cP7W_s1iiC",
        "outputId": "e09cedf2-757b-4567-9ea6-80d4f0580bf1"
      },
      "source": [
        "Registro_Desplazamiento(3,5,'11011',5,8)"
      ],
      "execution_count": 674,
      "outputs": [
        {
          "output_type": "execute_result",
          "data": {
            "text/plain": [
              "[0.84375, 0.65625, 0.03125, 0.15625, 0.59375, 0.875, 0.40625, 0.8125, 0.5]"
            ]
          },
          "metadata": {
            "tags": []
          },
          "execution_count": 674
        }
      ]
    },
    {
      "cell_type": "markdown",
      "metadata": {
        "id": "dquZQsZj26Ol"
      },
      "source": [
        "**2.2 Version con parametros por defecto** "
      ]
    },
    {
      "cell_type": "code",
      "metadata": {
        "id": "8TjHvKMuBy2C"
      },
      "source": [
        "import random\n",
        "#M es el nro de elementos que se generan despues de la semilla\n",
        "def Registro_Desplazamiento_V2(h=5,q=10,M=1):\n",
        "  #Se tratara con numeros en 10 bits.\n",
        "  semilla = random.randint(512, 1023)\n",
        "  Aleatorios = []\n",
        "  semilla = bin(semilla).replace(\"0b\",\"\")\n",
        "  l=len(str(semilla))\n",
        "  Aleatorios.append((int(semilla,2))/2**l)\n",
        "  for j in range(M):\n",
        "    for i in range(q):\n",
        "      a = (int(semilla[i])+int(semilla[i+h-1])) % 2\n",
        "      semilla = semilla + str(a)\n",
        "    Aleatorios.append((int(semilla[l:],2))/2**l)\n",
        "    semilla=semilla[l:]\n",
        "  return Aleatorios[1]"
      ],
      "execution_count": 675,
      "outputs": []
    },
    {
      "cell_type": "code",
      "metadata": {
        "colab": {
          "base_uri": "https://localhost:8080/"
        },
        "id": "2bhHZGHpEL7I",
        "outputId": "bfc545d9-a29f-4f47-9b95-2502ef6919e5"
      },
      "source": [
        "Registro_Desplazamiento_V2()"
      ],
      "execution_count": 676,
      "outputs": [
        {
          "output_type": "execute_result",
          "data": {
            "text/plain": [
              "0.408203125"
            ]
          },
          "metadata": {
            "tags": []
          },
          "execution_count": 676
        }
      ]
    }
  ]
}